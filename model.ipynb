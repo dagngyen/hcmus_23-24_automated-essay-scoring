{
  "cells": [
    {
      "cell_type": "markdown",
      "metadata": {
        "colab_type": "text",
        "id": "view-in-github"
      },
      "source": [
        "<a href=\"https://colab.research.google.com/github/iam-Dylan/automated-essay-scoring/blob/dagngyen/model.ipynb\" target=\"_parent\"><img src=\"https://colab.research.google.com/assets/colab-badge.svg\" alt=\"Open In Colab\"/></a>"
      ]
    },
    {
      "cell_type": "markdown",
      "metadata": {
        "id": "DUJiOyrkM2y2"
      },
      "source": [
        "<style>\n",
        "    h1 {\n",
        "        padding: 8px 8px;\n",
        "        background-image: linear-gradient(135deg, #c9f3ff, rgb(131, 218, 255));\n",
        "        font-weight: 700;\n",
        "        position: static;\n",
        "        text-align: center;\n",
        "        color: #006098;\n",
        "        font-size: 36px;\n",
        "    }\n",
        "    h2 {\n",
        "        font-weight: 700;\n",
        "        text-align: center;\n",
        "        font-style: italic;\n",
        "        font-size: 24px;\n",
        "    }\n",
        "</style>\n",
        "\n",
        "<div><h1>XÂY DỰNG MODEL</h1></div>\n",
        "<div><h2>RAPIDS cuML SVR model</h2></div>"
      ]
    },
    {
      "cell_type": "markdown",
      "metadata": {
        "id": "oOfhSD6AQnes"
      },
      "source": [
        "# Khai báo thư viện cần thiết"
      ]
    },
    {
      "cell_type": "code",
      "execution_count": 1,
      "metadata": {
        "id": "5K24VRRyQu7c"
      },
      "outputs": [
        {
          "name": "stderr",
          "output_type": "stream",
          "text": [
            "<frozen importlib._bootstrap>:241: RuntimeWarning: scipy._lib.messagestream.MessageStream size changed, may indicate binary incompatibility. Expected 56 from C header, got 64 from PyObject\n"
          ]
        }
      ],
      "source": [
        "import pandas as pd\n",
        "import numpy as np\n",
        "\n",
        "import matplotlib.pyplot as plt\n",
        "import seaborn as sns\n",
        "\n"
      ]
    },
    {
      "cell_type": "markdown",
      "metadata": {
        "id": "HigH7_pmTazr"
      },
      "source": [
        "# Đọc dữ liệu"
      ]
    },
    {
      "cell_type": "code",
      "execution_count": 2,
      "metadata": {
        "colab": {
          "base_uri": "https://localhost:8080/"
        },
        "id": "ud7yMht5XU_k",
        "outputId": "39a1ef36-9bb0-4208-eb7a-4e0dae972cef"
      },
      "outputs": [],
      "source": [
        "# from google.colab import drive\n",
        "# drive.mount('/gdrive', force_remount=True)"
      ]
    },
    {
      "cell_type": "code",
      "execution_count": 3,
      "metadata": {
        "colab": {
          "base_uri": "https://localhost:8080/",
          "height": 206
        },
        "id": "N9YbhtTUTeB9",
        "outputId": "17895d0e-4ae4-4ce6-f005-a6f1558fe72b"
      },
      "outputs": [],
      "source": [
        "# train = pd.read_csv('/gdrive/MyDrive/Colab Notebooks/data/train.csv')\n",
        "# train.sample(5)"
      ]
    },
    {
      "cell_type": "code",
      "execution_count": 4,
      "metadata": {
        "colab": {
          "base_uri": "https://localhost:8080/",
          "height": 143
        },
        "id": "TyO-XpmUXnaP",
        "outputId": "0464d202-3ed8-487f-a834-888fddb47731"
      },
      "outputs": [],
      "source": [
        "# test = pd.read_csv('/gdrive/MyDrive/Colab Notebooks/data/test.csv')\n",
        "# test"
      ]
    },
    {
      "cell_type": "code",
      "execution_count": 5,
      "metadata": {},
      "outputs": [
        {
          "data": {
            "text/html": [
              "<div>\n",
              "<style scoped>\n",
              "    .dataframe tbody tr th:only-of-type {\n",
              "        vertical-align: middle;\n",
              "    }\n",
              "\n",
              "    .dataframe tbody tr th {\n",
              "        vertical-align: top;\n",
              "    }\n",
              "\n",
              "    .dataframe thead th {\n",
              "        text-align: right;\n",
              "    }\n",
              "</style>\n",
              "<table border=\"1\" class=\"dataframe\">\n",
              "  <thead>\n",
              "    <tr style=\"text-align: right;\">\n",
              "      <th></th>\n",
              "      <th>essay_id</th>\n",
              "      <th>full_text</th>\n",
              "      <th>score</th>\n",
              "    </tr>\n",
              "  </thead>\n",
              "  <tbody>\n",
              "    <tr>\n",
              "      <th>10396</th>\n",
              "      <td>998557d</td>\n",
              "      <td>Started with the founding fathers. The Elector...</td>\n",
              "      <td>3</td>\n",
              "    </tr>\n",
              "    <tr>\n",
              "      <th>4424</th>\n",
              "      <td>41bd378</td>\n",
              "      <td>The challenge of exploring venus is very risky...</td>\n",
              "      <td>2</td>\n",
              "    </tr>\n",
              "    <tr>\n",
              "      <th>13455</th>\n",
              "      <td>c591447</td>\n",
              "      <td>I think theat limiting car usage in some citie...</td>\n",
              "      <td>3</td>\n",
              "    </tr>\n",
              "    <tr>\n",
              "      <th>3111</th>\n",
              "      <td>2e3312c</td>\n",
              "      <td>Have you evr wanted to help take care of anima...</td>\n",
              "      <td>3</td>\n",
              "    </tr>\n",
              "    <tr>\n",
              "      <th>16401</th>\n",
              "      <td>f1c81a1</td>\n",
              "      <td>\"The callenge of Exploring Venus,\" the author ...</td>\n",
              "      <td>2</td>\n",
              "    </tr>\n",
              "  </tbody>\n",
              "</table>\n",
              "</div>"
            ],
            "text/plain": [
              "      essay_id                                          full_text  score\n",
              "10396  998557d  Started with the founding fathers. The Elector...      3\n",
              "4424   41bd378  The challenge of exploring venus is very risky...      2\n",
              "13455  c591447  I think theat limiting car usage in some citie...      3\n",
              "3111   2e3312c  Have you evr wanted to help take care of anima...      3\n",
              "16401  f1c81a1  \"The callenge of Exploring Venus,\" the author ...      2"
            ]
          },
          "execution_count": 5,
          "metadata": {},
          "output_type": "execute_result"
        }
      ],
      "source": [
        "train = pd.read_csv('./learning-agency-lab-automated-essay-scoring-2/train.csv')\n",
        "train.sample(5)"
      ]
    },
    {
      "cell_type": "code",
      "execution_count": 6,
      "metadata": {},
      "outputs": [
        {
          "data": {
            "text/html": [
              "<div>\n",
              "<style scoped>\n",
              "    .dataframe tbody tr th:only-of-type {\n",
              "        vertical-align: middle;\n",
              "    }\n",
              "\n",
              "    .dataframe tbody tr th {\n",
              "        vertical-align: top;\n",
              "    }\n",
              "\n",
              "    .dataframe thead th {\n",
              "        text-align: right;\n",
              "    }\n",
              "</style>\n",
              "<table border=\"1\" class=\"dataframe\">\n",
              "  <thead>\n",
              "    <tr style=\"text-align: right;\">\n",
              "      <th></th>\n",
              "      <th>essay_id</th>\n",
              "      <th>full_text</th>\n",
              "    </tr>\n",
              "  </thead>\n",
              "  <tbody>\n",
              "    <tr>\n",
              "      <th>0</th>\n",
              "      <td>000d118</td>\n",
              "      <td>Many people have car where they live. The thin...</td>\n",
              "    </tr>\n",
              "    <tr>\n",
              "      <th>1</th>\n",
              "      <td>000fe60</td>\n",
              "      <td>I am a scientist at NASA that is discussing th...</td>\n",
              "    </tr>\n",
              "    <tr>\n",
              "      <th>2</th>\n",
              "      <td>001ab80</td>\n",
              "      <td>People always wish they had the same technolog...</td>\n",
              "    </tr>\n",
              "  </tbody>\n",
              "</table>\n",
              "</div>"
            ],
            "text/plain": [
              "  essay_id                                          full_text\n",
              "0  000d118  Many people have car where they live. The thin...\n",
              "1  000fe60  I am a scientist at NASA that is discussing th...\n",
              "2  001ab80  People always wish they had the same technolog..."
            ]
          },
          "execution_count": 6,
          "metadata": {},
          "output_type": "execute_result"
        }
      ],
      "source": [
        "test = pd.read_csv('./learning-agency-lab-automated-essay-scoring-2/test.csv')\n",
        "test.head()"
      ]
    },
    {
      "cell_type": "markdown",
      "metadata": {
        "id": "83qPC-0heiDS"
      },
      "source": [
        "# Xử lý dữ liệu thông qua trích xuất embeddings từ các mô hình Hugging Face"
      ]
    },
    {
      "cell_type": "markdown",
      "metadata": {
        "id": "iZHW_wPae61c"
      },
      "source": [
        "## Cài đặt thư viện cần thiết"
      ]
    },
    {
      "cell_type": "code",
      "execution_count": 7,
      "metadata": {
        "id": "xfPwofyEe0-B"
      },
      "outputs": [],
      "source": [
        "# !pip install transformers torch cudf cuml"
      ]
    },
    {
      "cell_type": "code",
      "execution_count": 8,
      "metadata": {
        "id": "kA9JxUBnmzFi"
      },
      "outputs": [],
      "source": [
        "# !pip install transformers torch scikit-learn pandas"
      ]
    },
    {
      "cell_type": "code",
      "execution_count": 9,
      "metadata": {
        "colab": {
          "base_uri": "https://localhost:8080/"
        },
        "id": "56OFw6mXm7Q0",
        "outputId": "24f9c67c-78ac-4927-eb00-83cb4dc2f8d9"
      },
      "outputs": [
        {
          "name": "stderr",
          "output_type": "stream",
          "text": [
            "/home/dagngyen/miniconda3/envs/min_ds-env/lib/python3.10/site-packages/tqdm/auto.py:21: TqdmWarning: IProgress not found. Please update jupyter and ipywidgets. See https://ipywidgets.readthedocs.io/en/stable/user_install.html\n",
            "  from .autonotebook import tqdm as notebook_tqdm\n",
            "/home/dagngyen/miniconda3/envs/min_ds-env/lib/python3.10/site-packages/huggingface_hub/file_download.py:1132: FutureWarning: `resume_download` is deprecated and will be removed in version 1.0.0. Downloads always resume when possible. If you want to force a new download, use `force_download=True`.\n",
            "  warnings.warn(\n",
            "Some weights of RobertaModel were not initialized from the model checkpoint at roberta-base and are newly initialized: ['roberta.pooler.dense.bias', 'roberta.pooler.dense.weight']\n",
            "You should probably TRAIN this model on a down-stream task to be able to use it for predictions and inference.\n"
          ]
        }
      ],
      "source": [
        "from transformers import AutoTokenizer, AutoModel\n",
        "import torch\n",
        "\n",
        "models = [\n",
        "    \"bert-base-uncased\",\n",
        "    \"roberta-base\",\n",
        "    \"xlnet-base-cased\",\n",
        "    \"gpt2\",\n",
        "    \"distilbert-base-uncased\",\n",
        "    \"albert-base-v2\"\n",
        "]\n",
        "\n",
        "tokenizers = [AutoTokenizer.from_pretrained(model) for model in models]\n",
        "models = [AutoModel.from_pretrained(model) for model in models]\n",
        "\n",
        "# Thêm token padding cho các tokenizer không có nó\n",
        "for tokenizer in tokenizers:\n",
        "    if tokenizer.pad_token is None:\n",
        "        tokenizer.add_special_tokens({'pad_token': '[PAD]'})"
      ]
    },
    {
      "cell_type": "code",
      "execution_count": 10,
      "metadata": {
        "id": "f1HGMkgE_PKy"
      },
      "outputs": [
        {
          "ename": "",
          "evalue": "",
          "output_type": "error",
          "traceback": [
            "\u001b[1;31mThe Kernel crashed while executing code in the current cell or a previous cell. \n",
            "\u001b[1;31mPlease review the code in the cell(s) to identify a possible cause of the failure. \n",
            "\u001b[1;31mClick <a href='https://aka.ms/vscodeJupyterKernelCrash'>here</a> for more info. \n",
            "\u001b[1;31mView Jupyter <a href='command:jupyter.viewOutput'>log</a> for further details."
          ]
        }
      ],
      "source": [
        "essays = train['full_text'].to_numpy()  # Danh sách các bài luận cần xử lý\n",
        "tokenized_essays = []\n",
        "\n",
        "for tokenizer in tokenizers:\n",
        "    tokenized_essay = [tokenizer(essay, padding='max_length', truncation=True, return_tensors='pt', max_length=1024) for essay in essays]\n",
        "    tokenized_essays.append(tokenized_essay)\n"
      ]
    },
    {
      "cell_type": "code",
      "execution_count": null,
      "metadata": {
        "id": "1vlIMC1P-bci"
      },
      "outputs": [],
      "source": [
        "embeddings = []\n",
        "\n",
        "for model, tokenized in zip(models, tokenized_essays):\n",
        "    model_embeddings = []\n",
        "    for essay in tokenized:\n",
        "        with torch.no_grad():\n",
        "            outputs = model(**essay)\n",
        "            # Sử dụng output ẩn cuối cùng\n",
        "            model_embeddings.append(outputs.last_hidden_state[:, 0, :].numpy())\n",
        "    embeddings.append(np.array(model_embeddings))\n",
        "\n",
        "# Nối tất cả các embeddings lại với nhau\n",
        "combined_embeddings = np.concatenate(embeddings, axis=-1).reshape(len(essays), -1)"
      ]
    },
    {
      "cell_type": "code",
      "execution_count": null,
      "metadata": {
        "id": "ZJXuCXXSM2y4"
      },
      "outputs": [],
      "source": []
    }
  ],
  "metadata": {
    "colab": {
      "include_colab_link": true,
      "provenance": []
    },
    "kernelspec": {
      "display_name": "Python 3",
      "name": "python3"
    },
    "language_info": {
      "codemirror_mode": {
        "name": "ipython",
        "version": 3
      },
      "file_extension": ".py",
      "mimetype": "text/x-python",
      "name": "python",
      "nbconvert_exporter": "python",
      "pygments_lexer": "ipython3",
      "version": "3.10.8"
    }
  },
  "nbformat": 4,
  "nbformat_minor": 0
}
