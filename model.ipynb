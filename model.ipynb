{
  "cells": [
    {
      "cell_type": "markdown",
      "metadata": {
        "id": "view-in-github",
        "colab_type": "text"
      },
      "source": [
        "<a href=\"https://colab.research.google.com/github/iam-Dylan/automated-essay-scoring/blob/dagngyen/model.ipynb\" target=\"_parent\"><img src=\"https://colab.research.google.com/assets/colab-badge.svg\" alt=\"Open In Colab\"/></a>"
      ]
    },
    {
      "cell_type": "markdown",
      "metadata": {
        "id": "DUJiOyrkM2y2"
      },
      "source": [
        "<style>\n",
        "    h1 {\n",
        "        padding: 8px 8px;\n",
        "        background-image: linear-gradient(135deg, #c9f3ff, rgb(131, 218, 255));\n",
        "        font-weight: 700;\n",
        "        position: static;\n",
        "        text-align: center;\n",
        "        color: #006098;\n",
        "        font-size: 36px;\n",
        "    }\n",
        "    h2 {\n",
        "        font-weight: 700;\n",
        "        text-align: center;\n",
        "        font-style: italic;\n",
        "        font-size: 24px;\n",
        "    }\n",
        "</style>\n",
        "\n",
        "<div><h1>XÂY DỰNG MODEL</h1></div>\n",
        "<div><h2></h2></div>"
      ]
    },
    {
      "cell_type": "code",
      "execution_count": null,
      "metadata": {
        "id": "ZJXuCXXSM2y4"
      },
      "outputs": [],
      "source": []
    }
  ],
  "metadata": {
    "language_info": {
      "name": "python"
    },
    "colab": {
      "provenance": [],
      "include_colab_link": true
    }
  },
  "nbformat": 4,
  "nbformat_minor": 0
}